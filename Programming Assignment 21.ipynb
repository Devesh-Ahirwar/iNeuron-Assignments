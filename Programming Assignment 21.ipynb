{
 "cells": [
  {
   "cell_type": "markdown",
   "id": "33f7003e",
   "metadata": {},
   "source": [
    "Write a function that takes a list and a number as arguments. Add the number to the end of\n",
    "the list, then remove the first element of the list. The function should then return the updated\n",
    "list."
   ]
  },
  {
   "cell_type": "code",
   "execution_count": 60,
   "id": "86371f2d",
   "metadata": {},
   "outputs": [
    {
     "data": {
      "text/plain": [
       "[6, 7, 8, 9, 1]"
      ]
     },
     "execution_count": 60,
     "metadata": {},
     "output_type": "execute_result"
    }
   ],
   "source": [
    "def next_in_line(lis,x):\n",
    "    del lis[0]\n",
    "    lis.append(x)\n",
    "    return lis\n",
    "next_in_line([5, 6, 7, 8, 9],1)"
   ]
  },
  {
   "cell_type": "markdown",
   "id": "284a32da",
   "metadata": {},
   "source": [
    "Create the function that takes a list of dictionaries and returns the sum of people&#39;s budgets."
   ]
  },
  {
   "cell_type": "code",
   "execution_count": null,
   "id": "59040f79",
   "metadata": {},
   "outputs": [],
   "source": [
    "def get_budgets(list1):\n",
    "    sum1 = 0\n",
    "    for i in list1:\n",
    "        sum1 = sum1 + i.get(\"budget\")\n",
    "    \n",
    "    print(sum1)\n",
    "    \n",
    "get_budgets([{ \"name\": \"John\", \"age\": 21, \"budget\": 23000 }, { \"name\": \"Steve\", \"age\": 32, \"budget\": 40000 }, { \"name\": \"Martin\", \"age\": 16, \"budget\": 2700 }])    \n",
    "    "
   ]
  },
  {
   "cell_type": "markdown",
   "id": "808a8790",
   "metadata": {},
   "source": [
    "Create a function that takes a string and returns a string with its letters in alphabetical order."
   ]
  },
  {
   "cell_type": "code",
   "execution_count": 45,
   "id": "a6bc2e67",
   "metadata": {},
   "outputs": [
    {
     "data": {
      "text/plain": [
       "'aacijprstv'"
      ]
     },
     "execution_count": 45,
     "metadata": {},
     "output_type": "execute_result"
    }
   ],
   "source": [
    "def alphabet_soup(st):\n",
    "    asci = list()\n",
    "    for i in st:\n",
    "        asci.append(ord(i))\n",
    "    asci.sort()\n",
    "    sr5 = str()\n",
    "    for j in asci:\n",
    "        sr5 += chr(j)\n",
    "    return sr5\n",
    "\n",
    "alphabet_soup(\"javascript\")"
   ]
  },
  {
   "cell_type": "markdown",
   "id": "baeaa239",
   "metadata": {},
   "source": [
    "Question4\n",
    "\n",
    "Suppose that you invest $10,000 for 10 years at an interest rate of 6% compounded monthly.\n",
    "What will be the value of your investment at the end of the 10 year period?\n",
    "\n",
    "Create a function that accepts the principal p, the term in years t, the interest rate r, and the\n",
    "number of compounding periods per year n. \n",
    "\n",
    "The function returns the value at the end of term\n",
    "rounded to the nearest cent.\n",
    "\n",
    "For the example above:\n",
    "compound_interest(10000, 10, 0.06, 12) ➞ 18193.97\n",
    "Note that the interest rate is given as a decimal and n=12 because with monthly compounding\n",
    "there are 12 periods per year. Compounding can also be done annually, quarterly, weekly, or\n",
    "daily."
   ]
  },
  {
   "cell_type": "code",
   "execution_count": 52,
   "id": "ef4b03f6",
   "metadata": {},
   "outputs": [
    {
     "data": {
      "text/plain": [
       "18193.97"
      ]
     },
     "execution_count": 52,
     "metadata": {},
     "output_type": "execute_result"
    }
   ],
   "source": [
    "def compound_interest(p,t,r,n):\n",
    "    amount = p*(1+(r/n))**(n*t)\n",
    "    return round(amount,2)\n",
    "\n",
    "compound_interest(10000, 10, 0.06, 12)"
   ]
  },
  {
   "cell_type": "markdown",
   "id": "9091410d",
   "metadata": {},
   "source": [
    "Write a function that takes a list of elements and returns only the integers."
   ]
  },
  {
   "cell_type": "code",
   "execution_count": 54,
   "id": "97016bb6",
   "metadata": {},
   "outputs": [],
   "source": [
    "def return_only_integer(list2):\n",
    "    list3=list()\n",
    "    for i in list2:\n",
    "        if type(i) == int:\n",
    "            list3.append(i)\n",
    "    return list3\n",
    "            \n",
    "return_only_integer([\"String\", True, 3.3, 1])"
   ]
  }
 ],
 "metadata": {
  "kernelspec": {
   "display_name": "Python 3 (ipykernel)",
   "language": "python",
   "name": "python3"
  },
  "language_info": {
   "codemirror_mode": {
    "name": "ipython",
    "version": 3
   },
   "file_extension": ".py",
   "mimetype": "text/x-python",
   "name": "python",
   "nbconvert_exporter": "python",
   "pygments_lexer": "ipython3",
   "version": "3.9.12"
  }
 },
 "nbformat": 4,
 "nbformat_minor": 5
}
