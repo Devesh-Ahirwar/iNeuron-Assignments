{
 "cells": [
  {
   "cell_type": "code",
   "execution_count": 5,
   "id": "c33d166a",
   "metadata": {},
   "outputs": [
    {
     "name": "stdout",
     "output_type": "stream",
     "text": [
      "Enter the length of the list: 10\n"
     ]
    },
    {
     "data": {
      "text/plain": [
       "[1, 2, 3, 40, 5, 6, 7, 80, 9, 10]"
      ]
     },
     "execution_count": 5,
     "metadata": {},
     "output_type": "execute_result"
    }
   ],
   "source": [
    "num1 = int(input(\"Enter the length of the list: \"))\n",
    "\n",
    "def funct1(x1):\n",
    "    list1 = [i*10 if i % 4 == 0 else i for i in range(1,x1+1)]\n",
    "    return list1\n",
    "funct1(num1)"
   ]
  },
  {
   "cell_type": "code",
   "execution_count": 10,
   "id": "45511f17",
   "metadata": {},
   "outputs": [
    {
     "name": "stdout",
     "output_type": "stream",
     "text": [
      "Unique numbers from the list [3, 4, 3, 5, 3] are: \n",
      "\n",
      "4\n",
      "\n",
      "5\n"
     ]
    }
   ],
   "source": [
    "\n",
    "\n",
    "def unique(num2):\n",
    "    print(f\"Unique numbers from the list {num2} are: \")\n",
    "    for i in num2:\n",
    "        count=0\n",
    "        for j in num2:\n",
    "            if i == j:\n",
    "                count = count + 1\n",
    "        if count == 1:\n",
    "            print(f\"\"\"\n",
    "{i}\"\"\")\n",
    "            \n",
    "unique([3,4,3,5,3])"
   ]
  },
  {
   "cell_type": "code",
   "execution_count": 15,
   "id": "81d7bc1b",
   "metadata": {},
   "outputs": [
    {
     "data": {
      "text/plain": [
       "50.27"
      ]
     },
     "execution_count": 15,
     "metadata": {},
     "output_type": "execute_result"
    }
   ],
   "source": [
    "import math\n",
    "class Circle:\n",
    "    def __init__(self, r):\n",
    "        self.radius = r\n",
    "\n",
    "    def getArea(self):\n",
    "        return round(math.pi * (self.radius ** 2),2)\n",
    "\n",
    "    def getPerimeter(self):\n",
    "        return round(2 * math.pi * self.radius,2)\n",
    "circy = Circle(4)\n",
    "circy.getPerimeter()\n",
    "circy.getArea()"
   ]
  },
  {
   "cell_type": "code",
   "execution_count": 11,
   "id": "13b15351",
   "metadata": {},
   "outputs": [
    {
     "data": {
      "text/plain": [
       "['Raphael', 'Leonardo', 'Donatello', 'Michelangelo']"
      ]
     },
     "execution_count": 11,
     "metadata": {},
     "output_type": "execute_result"
    }
   ],
   "source": [
    "def sort_by_length(l1):\n",
    "    return sorted(l1, key=len)\n",
    "sort_by_length([\"Raphael\", \"Leonardo\", \"Donatello\", \"Michelangelo\"])"
   ]
  },
  {
   "cell_type": "code",
   "execution_count": 16,
   "id": "9aacb5c3",
   "metadata": {},
   "outputs": [
    {
     "data": {
      "text/plain": [
       "'True'"
      ]
     },
     "execution_count": 16,
     "metadata": {},
     "output_type": "execute_result"
    }
   ],
   "source": [
    "list6 = [13, 5, 12]\n",
    "\n",
    "def is_triplet(x4):\n",
    "    a1 = max(x4)\n",
    "    mult = 0\n",
    "    for i in x4:\n",
    "        if x4.index(i) != x4.index(max(x4)):\n",
    "            mult = mult + i*i\n",
    "    if mult == (a1*a1):\n",
    "        return \"True\"\n",
    "    else:\n",
    "        return \"False\"\n",
    "is_triplet(list6)"
   ]
  },
  {
   "cell_type": "code",
   "execution_count": null,
   "id": "4201b925",
   "metadata": {},
   "outputs": [],
   "source": []
  }
 ],
 "metadata": {
  "kernelspec": {
   "display_name": "Python 3 (ipykernel)",
   "language": "python",
   "name": "python3"
  },
  "language_info": {
   "codemirror_mode": {
    "name": "ipython",
    "version": 3
   },
   "file_extension": ".py",
   "mimetype": "text/x-python",
   "name": "python",
   "nbconvert_exporter": "python",
   "pygments_lexer": "ipython3",
   "version": "3.9.12"
  }
 },
 "nbformat": 4,
 "nbformat_minor": 5
}
