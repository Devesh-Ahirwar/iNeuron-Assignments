{
 "cells": [
  {
   "cell_type": "markdown",
   "id": "ec122b8a",
   "metadata": {},
   "source": [
    "Question1\n",
    "\n",
    "Create a function that takes three parameters where:\n",
    "\n",
    " x is the start of the range (inclusive).\n",
    "\n",
    " y is the end of the range (inclusive).\n",
    "\n",
    " n is the divisor to be checked against.\n",
    "\n",
    "Return an ordered list with numbers in the range that are divisible by the third parameter n.\n",
    "Return an empty list if there are no numbers that are divisible by n."
   ]
  },
  {
   "cell_type": "code",
   "execution_count": 59,
   "id": "d250ede7",
   "metadata": {},
   "outputs": [
    {
     "data": {
      "text/plain": [
       "[8]"
      ]
     },
     "execution_count": 59,
     "metadata": {},
     "output_type": "execute_result"
    }
   ],
   "source": [
    "def list_operation(x,y,n):\n",
    "    l1=list()\n",
    "    for i in range(x,y+1):\n",
    "        if i % n == 0:\n",
    "            l1.append(i)\n",
    "    return l1\n",
    "\n",
    "list_operation(7,9,2)\n",
    "    "
   ]
  },
  {
   "cell_type": "markdown",
   "id": "4413f61b",
   "metadata": {},
   "source": [
    "Create a function that takes in two lists and returns True if the second list follows the first list\n",
    "by one element, and False otherwise. In other words, determine if the second list is the first\n",
    "list shifted to the right by 1."
   ]
  },
  {
   "cell_type": "code",
   "execution_count": 24,
   "id": "dc6b6fbd",
   "metadata": {},
   "outputs": [
    {
     "data": {
      "text/plain": [
       "True"
      ]
     },
     "execution_count": 24,
     "metadata": {},
     "output_type": "execute_result"
    }
   ],
   "source": [
    "def simon_says(lis1,lis2):\n",
    "    Flag = True\n",
    "    for i in range(len(lis1)-1):\n",
    "        if lis1[i] != lis2[i+1]:\n",
    "            Flag = False\n",
    "            break\n",
    "    \n",
    "    if Flag == False:\n",
    "        return False\n",
    "    else:\n",
    "        return True\n",
    "simon_says([1,2,3,4,5],[0,1,2,3,4])"
   ]
  },
  {
   "cell_type": "markdown",
   "id": "cbd545cf",
   "metadata": {},
   "source": [
    "A group of friends have decided to start a secret society. The name will be the first letter of\n",
    "each of their names, sorted in alphabetical order.\n",
    "Create a function that takes in a list of names and returns the name of the secret society."
   ]
  },
  {
   "cell_type": "code",
   "execution_count": 34,
   "id": "6e64f0f5",
   "metadata": {},
   "outputs": [
    {
     "data": {
      "text/plain": [
       "'DKA'"
      ]
     },
     "execution_count": 34,
     "metadata": {},
     "output_type": "execute_result"
    }
   ],
   "source": [
    "def society_name(lis):\n",
    "    string=\"\"\n",
    "    for i in range(len(lis)):\n",
    "        string = string + lis[i][0]\n",
    "    return string\n",
    "society_name([\"Devesh\", \"Kumar\", \"Ahirwar\"])       "
   ]
  },
  {
   "cell_type": "markdown",
   "id": "31ace11a",
   "metadata": {},
   "source": [
    "An isogram is a word that has no duplicate letters. Create a function that takes a string and\n",
    "returns either True or False depending on whether or not it&#39;s an &quot;isogram&quot;.\n",
    "\n",
    "is_isogram(&quot;Algorism&quot;) ➞ True"
   ]
  },
  {
   "cell_type": "code",
   "execution_count": 120,
   "id": "eac260fb",
   "metadata": {},
   "outputs": [
    {
     "data": {
      "text/plain": [
       "True"
      ]
     },
     "execution_count": 120,
     "metadata": {},
     "output_type": "execute_result"
    }
   ],
   "source": [
    "def is_isogram(s):\n",
    "    st = str()\n",
    "    for i in s:\n",
    "        st = st + i.capitalize()\n",
    "    count=0\n",
    "    for j in st:\n",
    "        for k in st:\n",
    "            if j == k:\n",
    "                count = count + 1\n",
    "    if count > len(st):\n",
    "        return False\n",
    "    else:\n",
    "        return True\n",
    "    \n",
    "is_isogram(\"Algorism\")"
   ]
  },
  {
   "cell_type": "markdown",
   "id": "1741e957",
   "metadata": {},
   "source": [
    "Create a function that takes a string and returns True or False, depending on whether the\n",
    "characters are in order or not."
   ]
  },
  {
   "cell_type": "code",
   "execution_count": 58,
   "id": "0a82b356",
   "metadata": {},
   "outputs": [
    {
     "data": {
      "text/plain": [
       "True"
      ]
     },
     "execution_count": 58,
     "metadata": {},
     "output_type": "execute_result"
    }
   ],
   "source": [
    "def is_in_order(s):\n",
    "    asci=list()\n",
    "    for i in s:\n",
    "        asci.append(ord(i))\n",
    "    \n",
    "    count = 0\n",
    "    i = 1\n",
    "\n",
    "    for i in range(len(asci)):\n",
    "        if asci[i] - asci[i-1] > 1:\n",
    "            count = count + 1\n",
    "    if count == 0:\n",
    "        return True\n",
    "    else:\n",
    "        return False\n",
    "\n",
    "    \n",
    "is_in_order(\"xyz\")  \n"
   ]
  },
  {
   "cell_type": "code",
   "execution_count": null,
   "id": "5a817e3a",
   "metadata": {},
   "outputs": [],
   "source": []
  }
 ],
 "metadata": {
  "kernelspec": {
   "display_name": "Python 3 (ipykernel)",
   "language": "python",
   "name": "python3"
  },
  "language_info": {
   "codemirror_mode": {
    "name": "ipython",
    "version": 3
   },
   "file_extension": ".py",
   "mimetype": "text/x-python",
   "name": "python",
   "nbconvert_exporter": "python",
   "pygments_lexer": "ipython3",
   "version": "3.9.12"
  }
 },
 "nbformat": 4,
 "nbformat_minor": 5
}
