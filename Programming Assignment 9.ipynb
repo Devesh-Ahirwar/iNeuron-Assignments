{
 "cells": [
  {
   "cell_type": "markdown",
   "id": "52a41111",
   "metadata": {},
   "source": [
    "Write a Python program to check if the given number is a Disarium Number?"
   ]
  },
  {
   "cell_type": "code",
   "execution_count": 17,
   "id": "ac439a68",
   "metadata": {},
   "outputs": [
    {
     "name": "stdout",
     "output_type": "stream",
     "text": [
      "89\n",
      "89 is Disarium Number\n"
     ]
    }
   ],
   "source": [
    "num = input()\n",
    "sum1 = 0\n",
    "\n",
    "\n",
    "for i in range(len(num)):\n",
    "    sum1 = int(num[i])**(i+1) + sum1\n",
    "if str(sum1) == num:\n",
    "    print(f\"{num} is Disarium Number\" )\n",
    "else:\n",
    "    print(f\"{num} is not a Disarium Number\" )\n",
    "        "
   ]
  },
  {
   "cell_type": "markdown",
   "id": "2a2e9683",
   "metadata": {},
   "source": [
    "Write a Python program to print all disarium numbers between 1 to 100?"
   ]
  },
  {
   "cell_type": "code",
   "execution_count": 19,
   "id": "a21713cf",
   "metadata": {},
   "outputs": [
    {
     "name": "stdout",
     "output_type": "stream",
     "text": [
      "1\n",
      "2\n",
      "3\n",
      "4\n",
      "5\n",
      "6\n",
      "7\n",
      "8\n",
      "9\n",
      "89\n"
     ]
    }
   ],
   "source": [
    "i = 1\n",
    "while i<=100:\n",
    "    sum1 = 0\n",
    "    s1 = str(i)\n",
    "    for j in range(len(s1)):\n",
    "        sum1 = int(s1[j])**(j+1) + sum1\n",
    "    if sum1 == i:\n",
    "        print(i)\n",
    "    i = i +1\n",
    "        \n",
    "    "
   ]
  },
  {
   "cell_type": "markdown",
   "id": "d49e8b5c",
   "metadata": {},
   "source": [
    "Write a Python program to check if the given number is Happy Number?"
   ]
  },
  {
   "cell_type": "code",
   "execution_count": 129,
   "id": "a44c0942",
   "metadata": {},
   "outputs": [
    {
     "name": "stdout",
     "output_type": "stream",
     "text": [
      "97\n",
      "It is a Happy Number\n"
     ]
    }
   ],
   "source": [
    "number = input()\n",
    "dummy = set()\n",
    "\n",
    "while number != 1:\n",
    "    sum2 = 0\n",
    "    for b in range(len(number)):\n",
    "        sum2 = int(number[b])**2 + sum2\n",
    "    if sum2 == 1:\n",
    "        print(\"It is a Happy Number\")\n",
    "        break\n",
    "    elif sum2 != 1:\n",
    "        number = str(sum2)\n",
    "        if number in dummy:\n",
    "            print(\"It is not a Happy Number\")\n",
    "            break\n",
    "        dummy.add(number)\n",
    "    "
   ]
  },
  {
   "cell_type": "code",
   "execution_count": 128,
   "id": "6fb7450e",
   "metadata": {},
   "outputs": [
    {
     "name": "stdout",
     "output_type": "stream",
     "text": [
      "List of Happy Numbers between 1 to 100 \n",
      "1\n",
      "7\n",
      "10\n",
      "13\n",
      "19\n",
      "23\n",
      "28\n",
      "31\n",
      "32\n",
      "44\n",
      "49\n",
      "68\n",
      "70\n",
      "79\n",
      "82\n",
      "86\n",
      "91\n",
      "94\n",
      "97\n",
      "100\n"
     ]
    }
   ],
   "source": [
    "\n",
    "    "
   ]
  },
  {
   "cell_type": "markdown",
   "id": "cd9ce909",
   "metadata": {},
   "source": [
    "Write a Python program to print all happy numbers between 1 and 100?"
   ]
  },
  {
   "cell_type": "code",
   "execution_count": 130,
   "id": "1eafd369",
   "metadata": {},
   "outputs": [
    {
     "name": "stdout",
     "output_type": "stream",
     "text": [
      "List of Happy Numbers between 1 to 100 \n",
      "1\n",
      "7\n",
      "10\n",
      "13\n",
      "19\n",
      "23\n",
      "28\n",
      "31\n",
      "32\n",
      "44\n",
      "49\n",
      "68\n",
      "70\n",
      "79\n",
      "82\n",
      "86\n",
      "91\n",
      "94\n",
      "97\n",
      "100\n"
     ]
    }
   ],
   "source": [
    "i = 2\n",
    "sum5 = 0\n",
    "print(\"List of Happy Numbers between 1 to 100 \")\n",
    "for number in range(0,101):\n",
    "    dummy = set()\n",
    "    number1 = str(number)\n",
    "    while number > 0:\n",
    "        sum2 = 0\n",
    "        for b in range(len(number1)):\n",
    "            sum2 = int(number1[b])**2 + sum2\n",
    "        if sum2 == 1:\n",
    "            print(number)\n",
    "            break\n",
    "        elif sum2 != 1:\n",
    "            number1 = str(sum2)\n",
    "            if number1 in dummy:\n",
    "                #print(\"It is not a Happy Number\")\n",
    "                break\n",
    "            dummy.add(number1)"
   ]
  },
  {
   "cell_type": "markdown",
   "id": "57153769",
   "metadata": {},
   "source": [
    "Write a Python program to determine whether the given number is a Harshad Number?"
   ]
  },
  {
   "cell_type": "code",
   "execution_count": 74,
   "id": "c3f45874",
   "metadata": {},
   "outputs": [
    {
     "name": "stdout",
     "output_type": "stream",
     "text": [
      "156\n",
      "It is a Harshad Number\n"
     ]
    }
   ],
   "source": [
    "number1 = input()\n",
    "\n",
    "sum2 = 0\n",
    "\n",
    "for i in range(len(number1)):\n",
    "    sum2 = int(number1[i]) + sum2\n",
    "\n",
    "if int(number1) % sum2 == 0:\n",
    "    print(\"It is a Harshad Number\")\n",
    "else:\n",
    "    print(\"It is not a Harshad Number\")\n",
    "    "
   ]
  },
  {
   "cell_type": "markdown",
   "id": "202ed513",
   "metadata": {},
   "source": [
    "Write a Python program to print all pronic numbers between 1 and 100?"
   ]
  },
  {
   "cell_type": "code",
   "execution_count": 100,
   "id": "db0191dd",
   "metadata": {},
   "outputs": [
    {
     "name": "stdout",
     "output_type": "stream",
     "text": [
      "2\n",
      "6\n",
      "12\n",
      "20\n",
      "30\n",
      "42\n",
      "56\n",
      "72\n",
      "90\n"
     ]
    }
   ],
   "source": [
    "i = 0\n",
    "\n",
    "while i<=100:\n",
    "    for x in range(i):\n",
    "        if x * (x+1) == i:\n",
    "            print(i)\n",
    "    i=i+1"
   ]
  },
  {
   "cell_type": "code",
   "execution_count": null,
   "id": "849e3a96",
   "metadata": {},
   "outputs": [],
   "source": []
  }
 ],
 "metadata": {
  "kernelspec": {
   "display_name": "Python 3 (ipykernel)",
   "language": "python",
   "name": "python3"
  },
  "language_info": {
   "codemirror_mode": {
    "name": "ipython",
    "version": 3
   },
   "file_extension": ".py",
   "mimetype": "text/x-python",
   "name": "python",
   "nbconvert_exporter": "python",
   "pygments_lexer": "ipython3",
   "version": "3.9.12"
  }
 },
 "nbformat": 4,
 "nbformat_minor": 5
}
