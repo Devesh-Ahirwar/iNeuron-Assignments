{
 "cells": [
  {
   "cell_type": "markdown",
   "id": "73429ef3",
   "metadata": {},
   "source": [
    "Create a function that takes a list of non-negative integers and strings and return a new list\n",
    "without the strings."
   ]
  },
  {
   "cell_type": "code",
   "execution_count": 15,
   "id": "3fdf3fc5",
   "metadata": {},
   "outputs": [
    {
     "name": "stdout",
     "output_type": "stream",
     "text": [
      "Negative integer is not allowed  -5\n",
      "Negative integer is not allowed  -9\n"
     ]
    },
    {
     "data": {
      "text/plain": [
       "[1, 2, 3, 4, 10]"
      ]
     },
     "execution_count": 15,
     "metadata": {},
     "output_type": "execute_result"
    }
   ],
   "source": [
    "a1 = [1,2,3,4,-5,\"Devesh\",-9,\"Kumar\",10,\"Ahirwar\"]\n",
    "\n",
    "def function1(x):\n",
    "    b1 = list()\n",
    "    for i in x:\n",
    "        if type(i) == int and i > 0:\n",
    "            b1.append(i)\n",
    "        elif type(i) == int and i < 0:\n",
    "            print(\"Negative integer is not allowed \", i)\n",
    "            \n",
    "\n",
    "    return b1\n",
    "\n",
    "function1(a1)"
   ]
  },
  {
   "cell_type": "markdown",
   "id": "67e0b994",
   "metadata": {},
   "source": [
    "The &quot;Reverser&quot; takes a string as input and returns that string in reverse order, with the\n",
    "opposite case."
   ]
  },
  {
   "cell_type": "code",
   "execution_count": 1,
   "id": "39a37324",
   "metadata": {},
   "outputs": [
    {
     "name": "stdout",
     "output_type": "stream",
     "text": [
      "Enter the stringdevesh is a good boy\n"
     ]
    },
    {
     "data": {
      "text/plain": [
       "'yob doog a si hseved'"
      ]
     },
     "execution_count": 1,
     "metadata": {},
     "output_type": "execute_result"
    }
   ],
   "source": [
    "a2 = input(\"Enter the string\")\n",
    "\n",
    "def reverser(y):\n",
    "    y = y[::-1]\n",
    "    return y\n",
    "\n",
    "reverser(a2)"
   ]
  },
  {
   "cell_type": "markdown",
   "id": "15b0d7de",
   "metadata": {},
   "source": [
    "Your task is to unpack the list writeyourcodehere into three variables, being first,\n",
    "middle, and last, with middle being everything in between the first and last element. Then\n",
    "print all three variables."
   ]
  },
  {
   "cell_type": "code",
   "execution_count": 52,
   "id": "2164a21b",
   "metadata": {},
   "outputs": [
    {
     "name": "stdout",
     "output_type": "stream",
     "text": [
      "First: 3\n",
      "Middle: [3, 65, 8]\n",
      "Last: 9\n"
     ]
    }
   ],
   "source": [
    "a5 = [1,3,65,8,9]\n",
    "\n",
    "def function3(x3):\n",
    "    first = x3[1]\n",
    "    middle = x3[1:-1]\n",
    "    last = x3[-1]\n",
    "    return print(f\"\"\"First: {first}\n",
    "Middle: {middle}\n",
    "Last: {last}\"\"\")\n",
    "\n",
    "function3(a5)"
   ]
  },
  {
   "cell_type": "markdown",
   "id": "dc9775b8",
   "metadata": {},
   "source": [
    "Write a function that calculates the factorial of a number recursively."
   ]
  },
  {
   "cell_type": "code",
   "execution_count": 62,
   "id": "2477d091",
   "metadata": {},
   "outputs": [
    {
     "name": "stdout",
     "output_type": "stream",
     "text": [
      " 1 * 2 = 2 \n",
      " 2 * 3 = 6 \n",
      " 6 * 4 = 24 \n",
      " 24 * 5 = 120 \n",
      " 120 * 6 = 720 \n",
      " 720 * 7 = 5040 \n",
      " 5040 * 8 = 40320 \n",
      " 40320 * 9 = 362880 \n",
      " 362880 * 10 = 3628800 \n"
     ]
    },
    {
     "data": {
      "text/plain": [
       "362880"
      ]
     },
     "execution_count": 62,
     "metadata": {},
     "output_type": "execute_result"
    }
   ],
   "source": [
    "a4 = 10\n",
    "\n",
    "def factorial(x2):\n",
    "    fact = 1\n",
    "    for i in range(1,x2):\n",
    "        fact = fact * i\n",
    "        print(f\" {fact} * {i+1} = {fact*(i+1)} \")\n",
    "        \n",
    "    return fact\n",
    "\n",
    "factorial(a4)\n",
    "        "
   ]
  },
  {
   "cell_type": "markdown",
   "id": "8360b806",
   "metadata": {},
   "source": [
    "Write a function that moves all elements of one type to the end of the list."
   ]
  },
  {
   "cell_type": "code",
   "execution_count": 44,
   "id": "fbc2ecbe",
   "metadata": {},
   "outputs": [
    {
     "data": {
      "text/plain": [
       "[3, 4, 5, 6, 35, 656, 8, 4, 3, 2, 7, 4, 9, 9, 9, 9]"
      ]
     },
     "execution_count": 44,
     "metadata": {},
     "output_type": "execute_result"
    }
   ],
   "source": [
    "a3 = [3,4,5,6,35,9,656,9,8,9,4,3,2,7,9,4]\n",
    "\n",
    "def move_to_end(x1,y1):\n",
    "    i=0\n",
    "    for i in range(len(x1)):\n",
    "        if x1[i] == y1:\n",
    "            x1.pop(i)\n",
    "            x1.append(y1)\n",
    "    return x1\n",
    "\n",
    "move_to_end(a3,9)\n",
    "    "
   ]
  }
 ],
 "metadata": {
  "kernelspec": {
   "display_name": "Python 3 (ipykernel)",
   "language": "python",
   "name": "python3"
  },
  "language_info": {
   "codemirror_mode": {
    "name": "ipython",
    "version": 3
   },
   "file_extension": ".py",
   "mimetype": "text/x-python",
   "name": "python",
   "nbconvert_exporter": "python",
   "pygments_lexer": "ipython3",
   "version": "3.9.12"
  }
 },
 "nbformat": 4,
 "nbformat_minor": 5
}
