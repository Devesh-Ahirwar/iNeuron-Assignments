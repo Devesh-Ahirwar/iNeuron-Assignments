{
 "cells": [
  {
   "cell_type": "markdown",
   "id": "021da4f5",
   "metadata": {},
   "source": [
    "Create a function that takes a string and returns a string in which each character is repeated\n",
    "once.\n",
    "    "
   ]
  },
  {
   "cell_type": "code",
   "execution_count": 7,
   "id": "a30c357f",
   "metadata": {},
   "outputs": [
    {
     "data": {
      "text/plain": [
       "'11223344!!__  '"
      ]
     },
     "execution_count": 7,
     "metadata": {},
     "output_type": "execute_result"
    }
   ],
   "source": [
    "def double_char(s):\n",
    "        s1 = str() \n",
    "        for i in s:\n",
    "            s1 += i+i\n",
    "        return s1\n",
    "\n",
    "double_char(\"1234!_ \")"
   ]
  },
  {
   "cell_type": "markdown",
   "id": "fef40ba7",
   "metadata": {},
   "source": [
    "Create a function that reverses a boolean value and returns the string &quot;boolean expected&quot;\n",
    "if another variable type is given."
   ]
  },
  {
   "cell_type": "code",
   "execution_count": 14,
   "id": "a2418bf8",
   "metadata": {},
   "outputs": [
    {
     "data": {
      "text/plain": [
       "True"
      ]
     },
     "execution_count": 14,
     "metadata": {},
     "output_type": "execute_result"
    }
   ],
   "source": [
    "def reverse(b):\n",
    "    if type(b) != bool:\n",
    "        return print(\"boolean expected\")\n",
    "    elif b == True:\n",
    "        return False\n",
    "    else:\n",
    "        return True\n",
    "reverse(False)"
   ]
  },
  {
   "cell_type": "markdown",
   "id": "0c51c07f",
   "metadata": {},
   "source": [
    "Create a function that returns the thickness (in meters) of a piece of paper after folding it n\n",
    "number of times. The paper starts off with a thickness of 0.5mm."
   ]
  },
  {
   "cell_type": "code",
   "execution_count": 31,
   "id": "7773ccf2",
   "metadata": {},
   "outputs": [
    {
     "name": "stdout",
     "output_type": "stream",
     "text": [
      "Paper folded 21 times is 1048.576 meter thick\n"
     ]
    }
   ],
   "source": [
    "def num_layers(n):\n",
    "    t = 0.5\n",
    "    i = 1\n",
    "    for i in range(n):\n",
    "        t = t + t\n",
    "    return print(f\"Paper folded {n} times is {t/1000} meter thick\")\n",
    "\n",
    "num_layers(21)    "
   ]
  },
  {
   "cell_type": "markdown",
   "id": "d5e80420",
   "metadata": {},
   "source": [
    "Create a function that takes a single string as argument and returns an ordered list containing\n",
    "the indices of all capital letters in the string.\n"
   ]
  },
  {
   "cell_type": "code",
   "execution_count": 41,
   "id": "184fe0b2",
   "metadata": {},
   "outputs": [
    {
     "data": {
      "text/plain": [
       "[1, 3, 4, 6]"
      ]
     },
     "execution_count": 41,
     "metadata": {},
     "output_type": "execute_result"
    }
   ],
   "source": [
    "def index_of_caps(s):\n",
    "    ind = list()\n",
    "    for i in s:\n",
    "        if i.isupper() == True:\n",
    "            ind.append(s.index(i))\n",
    "    return ind\n",
    "    \n",
    "index_of_caps(\"eQuINoX\")"
   ]
  },
  {
   "cell_type": "markdown",
   "id": "f6bb6105",
   "metadata": {},
   "source": [
    "Using list comprehensions, create a function that finds all even numbers from 1 to the given\n",
    "number.\n"
   ]
  },
  {
   "cell_type": "code",
   "execution_count": 58,
   "id": "8b0eaec6",
   "metadata": {},
   "outputs": [
    {
     "data": {
      "text/plain": [
       "[2]"
      ]
     },
     "execution_count": 58,
     "metadata": {},
     "output_type": "execute_result"
    }
   ],
   "source": [
    "def find_even_nums(n):\n",
    "    lis1 = [i for i in range(n+1) if i % 2 == 0 and i != 0]\n",
    "    return lis1\n",
    "find_even_nums(2)"
   ]
  },
  {
   "cell_type": "code",
   "execution_count": null,
   "id": "0e9c6c27",
   "metadata": {},
   "outputs": [],
   "source": []
  }
 ],
 "metadata": {
  "kernelspec": {
   "display_name": "Python 3 (ipykernel)",
   "language": "python",
   "name": "python3"
  },
  "language_info": {
   "codemirror_mode": {
    "name": "ipython",
    "version": 3
   },
   "file_extension": ".py",
   "mimetype": "text/x-python",
   "name": "python",
   "nbconvert_exporter": "python",
   "pygments_lexer": "ipython3",
   "version": "3.9.12"
  }
 },
 "nbformat": 4,
 "nbformat_minor": 5
}
