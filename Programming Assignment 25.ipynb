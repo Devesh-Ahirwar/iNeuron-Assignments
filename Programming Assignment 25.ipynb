{
 "cells": [
  {
   "cell_type": "markdown",
   "id": "d077c6e6",
   "metadata": {},
   "source": [
    "Create a function that takes three integer arguments (a, b, c) and returns the amount of\n",
    "integers which are of equal value."
   ]
  },
  {
   "cell_type": "code",
   "execution_count": 44,
   "id": "d5ffdbb8",
   "metadata": {},
   "outputs": [
    {
     "name": "stdout",
     "output_type": "stream",
     "text": [
      "The given arguments are: (5, 4, 5)\n",
      "The amount of integers which are of equal value: 2\n"
     ]
    }
   ],
   "source": [
    "t1 = (5,4,5)\n",
    "\n",
    "def equal(num2):\n",
    "    print(f\"The given arguments are: {num2}\")\n",
    "    for i in num2:\n",
    "        count = 0\n",
    "        for j in num2:\n",
    "            if i == j:\n",
    "                count = count + 1\n",
    "    if count != 1:\n",
    "        return print(f\"The amount of integers which are of equal value: {count}\")\n",
    "    else:\n",
    "        return print(f\"The amount of integers which are of equal value: {0}\")\n",
    "\n",
    "equal(t1)"
   ]
  },
  {
   "cell_type": "markdown",
   "id": "2377fc1b",
   "metadata": {},
   "source": [
    "Write a function that converts a dictionary into a list of keys-values tuples."
   ]
  },
  {
   "cell_type": "code",
   "execution_count": 71,
   "id": "e0befed7",
   "metadata": {},
   "outputs": [
    {
     "data": {
      "text/plain": [
       "[('likes', 2), ('dislikes', 3), ('followers', 10)]"
      ]
     },
     "execution_count": 71,
     "metadata": {},
     "output_type": "execute_result"
    }
   ],
   "source": [
    "def dict_to_list(x):\n",
    "    list_tuples = list()\n",
    "    \n",
    "    l1 = list(x.keys())\n",
    "    v1 = list(x.values())\n",
    "    for i in range(len(x)):\n",
    "        helper = list()\n",
    "        helper.append(l1[i])\n",
    "        helper.append(v1[i])\n",
    "        list_tuples.append(tuple(helper))\n",
    "        \n",
    "    return list_tuples\n",
    "\n",
    "        \n",
    "dict_to_list({\"likes\": 2,\n",
    "\"dislikes\": 3,\n",
    "\"followers\": 10})        "
   ]
  },
  {
   "cell_type": "markdown",
   "id": "52104d1c",
   "metadata": {},
   "source": [
    "Write a function that creates a dictionary with each (key, value) pair being the (lower case,\n",
    "upper case) versions of a letter, respectively."
   ]
  },
  {
   "cell_type": "code",
   "execution_count": 78,
   "id": "3c0f6e89",
   "metadata": {},
   "outputs": [
    {
     "data": {
      "text/plain": [
       "{'a': 'A', 'v': 'V', 'y': 'Y', 'z': 'Z'}"
      ]
     },
     "execution_count": 78,
     "metadata": {},
     "output_type": "execute_result"
    }
   ],
   "source": [
    "def mapping(list10):\n",
    "    d1 = dict()\n",
    "    for i in list10:\n",
    "        d1[i]=i.capitalize()\n",
    "    return d1\n",
    "mapping(['a','v','y','z'])"
   ]
  },
  {
   "cell_type": "markdown",
   "id": "af688a57",
   "metadata": {},
   "source": [
    "Write a function, that replaces all vowels in a string with a specified vowel."
   ]
  },
  {
   "cell_type": "code",
   "execution_count": 127,
   "id": "ded7ed83",
   "metadata": {},
   "outputs": [
    {
     "name": "stdout",
     "output_type": "stream",
     "text": [
      "chooso cossorolo\n"
     ]
    }
   ],
   "source": [
    "#vow_replace(\"apples and bananas\", \"u\")\n",
    "\n",
    "str1=\"cheese casserole\"\n",
    "str2=\"o\"\n",
    "vowel = [\"a\",\"e\",\"i\",\"u\"]\n",
    "for i in vowel:\n",
    "    str1=str1.replace(i,str2)\n",
    "print(str1)"
   ]
  },
  {
   "cell_type": "code",
   "execution_count": 110,
   "id": "d99f70ae",
   "metadata": {},
   "outputs": [
    {
     "data": {
      "text/plain": [
       "'chooso cossorolo'"
      ]
     },
     "execution_count": 110,
     "metadata": {},
     "output_type": "execute_result"
    }
   ],
   "source": [
    "def vow_replace(x,y):\n",
    "    vowel = [\"a\",\"e\",\"i\",\"o\",\"u\"]\n",
    "    for i in vowel:\n",
    "        x=x.replace(i,y)\n",
    "    return x\n",
    "\n",
    "vow_replace(\"cheese casserole\",\"o\")   "
   ]
  },
  {
   "cell_type": "markdown",
   "id": "e3635847",
   "metadata": {},
   "source": [
    "Create a function that takes a string as input and capitalizes a letter if its ASCII code is even\n",
    "and returns its lower case version if its ASCII code is odd."
   ]
  },
  {
   "cell_type": "code",
   "execution_count": 132,
   "id": "e30d8c61",
   "metadata": {},
   "outputs": [
    {
     "data": {
      "text/plain": [
       "'oH wHaT a BeauTiFuL moRNiNg.'"
      ]
     },
     "execution_count": 132,
     "metadata": {},
     "output_type": "execute_result"
    }
   ],
   "source": [
    "def ascii_capitalize(s1):\n",
    "    for i in s1:\n",
    "        asci = ord(i)\n",
    "        if asci % 2 == 0:\n",
    "            Cap = str(i).capitalize()\n",
    "            s1=s1.replace(i,Cap)\n",
    "        else:\n",
    "            lower =str(i).lower()\n",
    "            s1=s1.replace(i,lower)\n",
    "    return s1\n",
    "ascii_capitalize(\"oh what a beautiful morning.\")"
   ]
  }
 ],
 "metadata": {
  "kernelspec": {
   "display_name": "Python 3 (ipykernel)",
   "language": "python",
   "name": "python3"
  },
  "language_info": {
   "codemirror_mode": {
    "name": "ipython",
    "version": 3
   },
   "file_extension": ".py",
   "mimetype": "text/x-python",
   "name": "python",
   "nbconvert_exporter": "python",
   "pygments_lexer": "ipython3",
   "version": "3.9.12"
  }
 },
 "nbformat": 4,
 "nbformat_minor": 5
}
