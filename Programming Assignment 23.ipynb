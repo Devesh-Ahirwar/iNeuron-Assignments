{
 "cells": [
  {
   "cell_type": "markdown",
   "id": "3ee79620",
   "metadata": {},
   "source": [
    "Create a function that takes a number as an argument and returns True or False depending\n",
    "on whether the number is symmetrical or not. A number is symmetrical when it is the same as\n",
    "its reverse.\n"
   ]
  },
  {
   "cell_type": "code",
   "execution_count": 2,
   "id": "78d733b9",
   "metadata": {},
   "outputs": [
    {
     "name": "stdout",
     "output_type": "stream",
     "text": [
      "Enter the number: 656\n",
      "True\n"
     ]
    }
   ],
   "source": [
    "num1 = input(\"Enter the number: \")\n",
    "\n",
    "def symmet(x1):\n",
    "    if x1 == x1[::-1]:\n",
    "        print(\"True\")\n",
    "    else:\n",
    "        print(\"False\")\n",
    "symmet(num1)"
   ]
  },
  {
   "cell_type": "markdown",
   "id": "d585e7b5",
   "metadata": {},
   "source": [
    "Given a string of numbers separated by a comma and space, return the product of the\n",
    "numbers.\n",
    "multiply_nums(&quot;2, 3&quot;) ➞ 6\n",
    "\n",
    "multiply_nums(&quot;1, 2, 3, 4&quot;) ➞ 24\n",
    "\n",
    "multiply_nums(&quot;54, 75, 453, 0&quot;) ➞ 0\n",
    "\n",
    "multiply_nums(&quot;10, -2&quot;) ➞ -20"
   ]
  },
  {
   "cell_type": "code",
   "execution_count": 165,
   "id": "f7114c6f",
   "metadata": {},
   "outputs": [
    {
     "data": {
      "text/plain": [
       "-20"
      ]
     },
     "execution_count": 165,
     "metadata": {},
     "output_type": "execute_result"
    }
   ],
   "source": [
    "string1 = '10, -2'\n",
    "\n",
    "def multiply_nums(s3):\n",
    "    s3 = list(s3.split(\",\"))\n",
    "    mult = 1\n",
    "    for i in s3:\n",
    "        i = int(i)\n",
    "        mult = mult * i\n",
    "    return mult\n",
    "\n",
    "multiply_nums(string1)"
   ]
  },
  {
   "cell_type": "markdown",
   "id": "374b085b",
   "metadata": {},
   "source": [
    "Create a function that squares every digit of a number."
   ]
  },
  {
   "cell_type": "code",
   "execution_count": 24,
   "id": "242aa56c",
   "metadata": {},
   "outputs": [
    {
     "name": "stdout",
     "output_type": "stream",
     "text": [
      "Enter the number: 25\n"
     ]
    },
    {
     "data": {
      "text/plain": [
       "425"
      ]
     },
     "execution_count": 24,
     "metadata": {},
     "output_type": "execute_result"
    }
   ],
   "source": [
    "num3 = input(\"Enter the number: \")\n",
    "\n",
    "def digi_square(x5):\n",
    "    x6=\"\"\n",
    "    for i in range(len(x5)):\n",
    "        x6 = x6 + str(int(x5[i])**2)\n",
    "    return int(x6)\n",
    "\n",
    "digi_square(num3)        \n",
    "        "
   ]
  },
  {
   "cell_type": "markdown",
   "id": "ff0834c6",
   "metadata": {},
   "source": [
    "Create a function that sorts a list and removes all duplicate items from it.\n",
    "\n",
    "setify([1, 3, 3, 5, 5]) ➞ [1, 3, 5]\n",
    "\n",
    "setify([4, 4, 4, 4]) ➞ [4]\n",
    "\n",
    "setify([5, 7, 8, 9, 10, 15]) ➞ [5, 7, 8, 9, 10, 15]\n",
    "\n",
    "setify([3, 3, 3, 2, 1]) ➞ [1, 2, 3]"
   ]
  },
  {
   "cell_type": "code",
   "execution_count": 37,
   "id": "d0706a86",
   "metadata": {},
   "outputs": [
    {
     "data": {
      "text/plain": [
       "[4]"
      ]
     },
     "execution_count": 37,
     "metadata": {},
     "output_type": "execute_result"
    }
   ],
   "source": [
    "list4 = [4, 4, 4, 4]\n",
    "\n",
    "def setify(x6):\n",
    "    list5 = set(x6)\n",
    "    return list(list5)\n",
    "setify(list4)"
   ]
  },
  {
   "cell_type": "markdown",
   "id": "7063f345",
   "metadata": {},
   "source": [
    "Create a function that returns the mean of all digits."
   ]
  },
  {
   "cell_type": "code",
   "execution_count": 168,
   "id": "c55d4239",
   "metadata": {},
   "outputs": [
    {
     "name": "stdout",
     "output_type": "stream",
     "text": [
      "Enter the number: 159\n"
     ]
    },
    {
     "data": {
      "text/plain": [
       "5"
      ]
     },
     "execution_count": 168,
     "metadata": {},
     "output_type": "execute_result"
    }
   ],
   "source": [
    "num4 = input(\"Enter the number: \")\n",
    "\n",
    "def mean(x7):\n",
    "    sum = 0\n",
    "    for i in x7:\n",
    "        sum = sum + int(i)\n",
    "    return int(sum/len(x7))\n",
    "mean(num4)"
   ]
  }
 ],
 "metadata": {
  "kernelspec": {
   "display_name": "Python 3 (ipykernel)",
   "language": "python",
   "name": "python3"
  },
  "language_info": {
   "codemirror_mode": {
    "name": "ipython",
    "version": 3
   },
   "file_extension": ".py",
   "mimetype": "text/x-python",
   "name": "python",
   "nbconvert_exporter": "python",
   "pygments_lexer": "ipython3",
   "version": "3.9.12"
  }
 },
 "nbformat": 4,
 "nbformat_minor": 5
}
