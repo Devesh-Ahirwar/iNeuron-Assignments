{
 "cells": [
  {
   "cell_type": "code",
   "execution_count": 1,
   "id": "d303ba8e",
   "metadata": {},
   "outputs": [
    {
     "name": "stdout",
     "output_type": "stream",
     "text": [
      "Enter the number of terms: 4\n",
      "0, 1, 1, 2, "
     ]
    }
   ],
   "source": [
    "# Python program to display the Fibonacci sequence using recursion\n",
    "def fibonacci(n):\n",
    "    if n <= 0:\n",
    "        return 0\n",
    "    elif n == 1:\n",
    "        return 1\n",
    "    else:\n",
    "        return fibonacci(n-1) + fibonacci(n-2)\n",
    "\n",
    "n = int(input(\"Enter the number of terms: \"))\n",
    "for i in range(n):\n",
    "    print(fibonacci(i), end=\", \")"
   ]
  },
  {
   "cell_type": "code",
   "execution_count": 2,
   "id": "8fe16c67",
   "metadata": {},
   "outputs": [
    {
     "name": "stdout",
     "output_type": "stream",
     "text": [
      "Enter a number: 6\n",
      "Factorial of 6 is 720\n"
     ]
    }
   ],
   "source": [
    "#Python program to find the factorial of a number using recursion\n",
    "def factorial(n):\n",
    "    if n == 0:\n",
    "        return 1\n",
    "    else:\n",
    "        return n * factorial(n-1)\n",
    "\n",
    "n = int(input(\"Enter a number: \"))\n",
    "print(\"Factorial of\", n, \"is\", factorial(n))"
   ]
  },
  {
   "cell_type": "code",
   "execution_count": 3,
   "id": "bc4c025d",
   "metadata": {},
   "outputs": [
    {
     "name": "stdout",
     "output_type": "stream",
     "text": [
      "Enter your height in meters: 1.7\n",
      "Enter your weight in kg: 80\n",
      "Your BMI is:  27.68166089965398\n"
     ]
    }
   ],
   "source": [
    "#Python program to calculate the Body Mass Index (BMI)\n",
    "height = float(input(\"Enter your height in meters: \"))\n",
    "weight = float(input(\"Enter your weight in kg: \"))\n",
    "\n",
    "bmi = weight / (height * height)\n",
    "print(\"Your BMI is: \", bmi)"
   ]
  },
  {
   "cell_type": "code",
   "execution_count": 4,
   "id": "504f38b9",
   "metadata": {},
   "outputs": [
    {
     "name": "stdout",
     "output_type": "stream",
     "text": [
      "Enter a number: 5\n",
      "Natural logarithm of 5.0 is: 1.6094379124341003\n"
     ]
    }
   ],
   "source": [
    "#Python program to calculate the natural logarithm of any number\n",
    "import math\n",
    "\n",
    "n = float(input(\"Enter a number: \"))\n",
    "print(\"Natural logarithm of\", n, \"is:\", math.log(n))"
   ]
  },
  {
   "cell_type": "code",
   "execution_count": 5,
   "id": "f8b286a0",
   "metadata": {},
   "outputs": [
    {
     "name": "stdout",
     "output_type": "stream",
     "text": [
      "Enter the number of natural numbers: 8\n",
      "Cube sum of first 8 natural numbers is: 1296\n"
     ]
    }
   ],
   "source": [
    "# Python program for the cube sum of first n natural numbers\n",
    "n = int(input(\"Enter the number of natural numbers: \"))\n",
    "\n",
    "sum = 0\n",
    "for i in range(1, n+1):\n",
    "    sum += i**3\n",
    "\n",
    "print(\"Cube sum of first\", n, \"natural numbers is:\", sum)"
   ]
  },
  {
   "cell_type": "code",
   "execution_count": null,
   "id": "649e0f5e",
   "metadata": {},
   "outputs": [],
   "source": []
  }
 ],
 "metadata": {
  "kernelspec": {
   "display_name": "Python 3 (ipykernel)",
   "language": "python",
   "name": "python3"
  },
  "language_info": {
   "codemirror_mode": {
    "name": "ipython",
    "version": 3
   },
   "file_extension": ".py",
   "mimetype": "text/x-python",
   "name": "python",
   "nbconvert_exporter": "python",
   "pygments_lexer": "ipython3",
   "version": "3.9.12"
  }
 },
 "nbformat": 4,
 "nbformat_minor": 5
}
